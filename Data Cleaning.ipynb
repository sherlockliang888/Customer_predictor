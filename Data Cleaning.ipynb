{
 "cells": [
  {
   "cell_type": "markdown",
   "metadata": {},
   "source": [
    "## Data Cleaning"
   ]
  },
  {
   "cell_type": "markdown",
   "metadata": {},
   "source": [
    "In this file, I will explore the dataset, thoroughly clean it and fill out any empty values."
   ]
  },
  {
   "cell_type": "markdown",
   "metadata": {},
   "source": [
    "### Load packages"
   ]
  },
  {
   "cell_type": "code",
   "execution_count": 1,
   "metadata": {},
   "outputs": [],
   "source": [
    "import pandas as pd\n",
    "from matplotlib import pyplot as plt\n",
    "import seaborn as sns\n",
    "import numpy as np\n",
    "from sklearn.impute import SimpleImputer"
   ]
  },
  {
   "cell_type": "markdown",
   "metadata": {},
   "source": [
    "### Read and explore dataset"
   ]
  },
  {
   "cell_type": "code",
   "execution_count": 2,
   "metadata": {},
   "outputs": [
    {
     "data": {
      "text/html": [
       "<div>\n",
       "<style scoped>\n",
       "    .dataframe tbody tr th:only-of-type {\n",
       "        vertical-align: middle;\n",
       "    }\n",
       "\n",
       "    .dataframe tbody tr th {\n",
       "        vertical-align: top;\n",
       "    }\n",
       "\n",
       "    .dataframe thead th {\n",
       "        text-align: right;\n",
       "    }\n",
       "</style>\n",
       "<table border=\"1\" class=\"dataframe\">\n",
       "  <thead>\n",
       "    <tr style=\"text-align: right;\">\n",
       "      <th></th>\n",
       "      <th>user_id</th>\n",
       "      <th>age</th>\n",
       "      <th>workclass</th>\n",
       "      <th>salary</th>\n",
       "      <th>education_rank</th>\n",
       "      <th>marital-status</th>\n",
       "      <th>occupation</th>\n",
       "      <th>race</th>\n",
       "      <th>sex</th>\n",
       "      <th>mins_beerdrinking_year</th>\n",
       "      <th>mins_exercising_year</th>\n",
       "      <th>works_hours</th>\n",
       "      <th>tea_per_year</th>\n",
       "      <th>coffee_per_year</th>\n",
       "      <th>great_customer_class</th>\n",
       "    </tr>\n",
       "  </thead>\n",
       "  <tbody>\n",
       "    <tr>\n",
       "      <th>0</th>\n",
       "      <td>1004889</td>\n",
       "      <td>14.0</td>\n",
       "      <td>private</td>\n",
       "      <td>70773.00</td>\n",
       "      <td>9</td>\n",
       "      <td>Never-married</td>\n",
       "      <td>sales</td>\n",
       "      <td>not_caucasian</td>\n",
       "      <td>Male</td>\n",
       "      <td>0.0</td>\n",
       "      <td>0.0</td>\n",
       "      <td>40</td>\n",
       "      <td>399.0</td>\n",
       "      <td>NaN</td>\n",
       "      <td>0</td>\n",
       "    </tr>\n",
       "    <tr>\n",
       "      <th>1</th>\n",
       "      <td>1012811</td>\n",
       "      <td>25.0</td>\n",
       "      <td>private</td>\n",
       "      <td>76597.00</td>\n",
       "      <td>9</td>\n",
       "      <td>Divorced</td>\n",
       "      <td>sales</td>\n",
       "      <td>caucasian</td>\n",
       "      <td>Female</td>\n",
       "      <td>0.0</td>\n",
       "      <td>0.0</td>\n",
       "      <td>30</td>\n",
       "      <td>256.0</td>\n",
       "      <td>NaN</td>\n",
       "      <td>0</td>\n",
       "    </tr>\n",
       "    <tr>\n",
       "      <th>2</th>\n",
       "      <td>1006870</td>\n",
       "      <td>21.0</td>\n",
       "      <td>private</td>\n",
       "      <td>47947.25</td>\n",
       "      <td>10</td>\n",
       "      <td>Never-married</td>\n",
       "      <td>clerical</td>\n",
       "      <td>caucasian</td>\n",
       "      <td>Female</td>\n",
       "      <td>0.0</td>\n",
       "      <td>0.0</td>\n",
       "      <td>10</td>\n",
       "      <td>442.0</td>\n",
       "      <td>276.0</td>\n",
       "      <td>0</td>\n",
       "    </tr>\n",
       "    <tr>\n",
       "      <th>3</th>\n",
       "      <td>1022149</td>\n",
       "      <td>23.0</td>\n",
       "      <td>private</td>\n",
       "      <td>41740.25</td>\n",
       "      <td>7</td>\n",
       "      <td>Divorced</td>\n",
       "      <td>sales</td>\n",
       "      <td>caucasian</td>\n",
       "      <td>Female</td>\n",
       "      <td>0.0</td>\n",
       "      <td>0.0</td>\n",
       "      <td>20</td>\n",
       "      <td>NaN</td>\n",
       "      <td>NaN</td>\n",
       "      <td>0</td>\n",
       "    </tr>\n",
       "    <tr>\n",
       "      <th>4</th>\n",
       "      <td>1029558</td>\n",
       "      <td>26.0</td>\n",
       "      <td>private</td>\n",
       "      <td>NaN</td>\n",
       "      <td>9</td>\n",
       "      <td>Married</td>\n",
       "      <td>sales</td>\n",
       "      <td>not_caucasian</td>\n",
       "      <td>Male</td>\n",
       "      <td>NaN</td>\n",
       "      <td>0.0</td>\n",
       "      <td>36</td>\n",
       "      <td>NaN</td>\n",
       "      <td>120.0</td>\n",
       "      <td>0</td>\n",
       "    </tr>\n",
       "  </tbody>\n",
       "</table>\n",
       "</div>"
      ],
      "text/plain": [
       "   user_id   age workclass    salary  education_rank marital-status  \\\n",
       "0  1004889  14.0   private  70773.00               9  Never-married   \n",
       "1  1012811  25.0   private  76597.00               9       Divorced   \n",
       "2  1006870  21.0   private  47947.25              10  Never-married   \n",
       "3  1022149  23.0   private  41740.25               7       Divorced   \n",
       "4  1029558  26.0   private       NaN               9        Married   \n",
       "\n",
       "  occupation           race     sex  mins_beerdrinking_year  \\\n",
       "0      sales  not_caucasian    Male                     0.0   \n",
       "1      sales      caucasian  Female                     0.0   \n",
       "2   clerical      caucasian  Female                     0.0   \n",
       "3      sales      caucasian  Female                     0.0   \n",
       "4      sales  not_caucasian    Male                     NaN   \n",
       "\n",
       "   mins_exercising_year  works_hours  tea_per_year  coffee_per_year  \\\n",
       "0                   0.0           40         399.0              NaN   \n",
       "1                   0.0           30         256.0              NaN   \n",
       "2                   0.0           10         442.0            276.0   \n",
       "3                   0.0           20           NaN              NaN   \n",
       "4                   0.0           36           NaN            120.0   \n",
       "\n",
       "   great_customer_class  \n",
       "0                     0  \n",
       "1                     0  \n",
       "2                     0  \n",
       "3                     0  \n",
       "4                     0  "
      ]
     },
     "execution_count": 2,
     "metadata": {},
     "output_type": "execute_result"
    }
   ],
   "source": [
    "df = pd.read_csv(\"https://raw.githubusercontent.com/subashgandyer/datasets/main/great_customers.csv\")\n",
    "df.head()"
   ]
  },
  {
   "cell_type": "code",
   "execution_count": 3,
   "metadata": {
    "scrolled": true
   },
   "outputs": [
    {
     "name": "stdout",
     "output_type": "stream",
     "text": [
      "<class 'pandas.core.frame.DataFrame'>\n",
      "RangeIndex: 13599 entries, 0 to 13598\n",
      "Data columns (total 15 columns):\n",
      " #   Column                  Non-Null Count  Dtype  \n",
      "---  ------                  --------------  -----  \n",
      " 0   user_id                 13599 non-null  int64  \n",
      " 1   age                     13178 non-null  float64\n",
      " 2   workclass               13056 non-null  object \n",
      " 3   salary                  13177 non-null  float64\n",
      " 4   education_rank          13599 non-null  int64  \n",
      " 5   marital-status          13599 non-null  object \n",
      " 6   occupation              13056 non-null  object \n",
      " 7   race                    13599 non-null  object \n",
      " 8   sex                     13599 non-null  object \n",
      " 9   mins_beerdrinking_year  13175 non-null  float64\n",
      " 10  mins_exercising_year    13178 non-null  float64\n",
      " 11  works_hours             13599 non-null  int64  \n",
      " 12  tea_per_year            11170 non-null  float64\n",
      " 13  coffee_per_year         11188 non-null  float64\n",
      " 14  great_customer_class    13599 non-null  int64  \n",
      "dtypes: float64(6), int64(4), object(5)\n",
      "memory usage: 1.6+ MB\n"
     ]
    }
   ],
   "source": [
    "df.info()"
   ]
  },
  {
   "cell_type": "code",
   "execution_count": 4,
   "metadata": {},
   "outputs": [
    {
     "data": {
      "text/plain": [
       "Index(['user_id', 'age', 'workclass', 'salary', 'education_rank',\n",
       "       'marital-status', 'occupation', 'race', 'sex', 'mins_beerdrinking_year',\n",
       "       'mins_exercising_year', 'works_hours', 'tea_per_year',\n",
       "       'coffee_per_year', 'great_customer_class'],\n",
       "      dtype='object')"
      ]
     },
     "execution_count": 4,
     "metadata": {},
     "output_type": "execute_result"
    }
   ],
   "source": [
    "df.columns"
   ]
  },
  {
   "cell_type": "markdown",
   "metadata": {},
   "source": [
    "### Split Data into Categorical and Numeric"
   ]
  },
  {
   "cell_type": "code",
   "execution_count": 5,
   "metadata": {},
   "outputs": [],
   "source": [
    "cat_df = df[['workclass', 'marital-status','occupation','race', 'sex']]\n",
    "num_df = df[['user_id', 'age', 'salary',\n",
    "       'education_rank', 'mins_beerdrinking_year', 'mins_exercising_year', \n",
    "            'works_hours', 'tea_per_year', 'coffee_per_year', 'great_customer_class']]\n",
    "y = df[['great_customer_class']]"
   ]
  },
  {
   "cell_type": "markdown",
   "metadata": {},
   "source": [
    "### Explore Empty Values in Categorical Data"
   ]
  },
  {
   "cell_type": "code",
   "execution_count": 6,
   "metadata": {},
   "outputs": [
    {
     "data": {
      "text/plain": [
       "<AxesSubplot:>"
      ]
     },
     "execution_count": 6,
     "metadata": {},
     "output_type": "execute_result"
    },
    {
     "data": {
      "image/png": "[encoded data removed]",
      "text/plain": [
       "<Figure size 720x432 with 1 Axes>"
      ]
     },
     "metadata": {
      "needs_background": "light"
     },
     "output_type": "display_data"
    }
   ],
   "source": [
    "plt.figure(figsize=(10,6))\n",
    "sns.heatmap(cat_df.isna(), cbar=False, cmap='viridis', yticklabels=False)"
   ]
  },
  {
   "cell_type": "code",
   "execution_count": 7,
   "metadata": {
    "scrolled": true
   },
   "outputs": [
    {
     "data": {
      "text/plain": [
       "self_employed    5972\n",
       "private          5957\n",
       "government       1127\n",
       "Name: workclass, dtype: int64"
      ]
     },
     "execution_count": 7,
     "metadata": {},
     "output_type": "execute_result"
    }
   ],
   "source": [
    "cat_df.workclass.value_counts()"
   ]
  },
  {
   "cell_type": "code",
   "execution_count": 8,
   "metadata": {},
   "outputs": [
    {
     "data": {
      "text/plain": [
       "tech            5234\n",
       "craft           1114\n",
       "clerical         999\n",
       "professional     984\n",
       "service          973\n",
       "executive        953\n",
       "sales            920\n",
       "factory          555\n",
       "trucker          414\n",
       "cleaner          399\n",
       "farm             301\n",
       "lawenf           161\n",
       "estate_agent      47\n",
       "soldier            2\n",
       "Name: occupation, dtype: int64"
      ]
     },
     "execution_count": 8,
     "metadata": {},
     "output_type": "execute_result"
    }
   ],
   "source": [
    "cat_df.occupation.value_counts()"
   ]
  },
  {
   "cell_type": "markdown",
   "metadata": {},
   "source": [
    "### Fill Empty Values with the Most Frequent Result"
   ]
  },
  {
   "cell_type": "code",
   "execution_count": 9,
   "metadata": {},
   "outputs": [
    {
     "name": "stderr",
     "output_type": "stream",
     "text": [
      "C:\\Users\\sheri\\anaconda3\\envs\\ml-venv\\lib\\site-packages\\pandas\\core\\series.py:4439: SettingWithCopyWarning: \n",
      "A value is trying to be set on a copy of a slice from a DataFrame\n",
      "\n",
      "See the caveats in the documentation: https://pandas.pydata.org/pandas-docs/stable/user_guide/indexing.html#returning-a-view-versus-a-copy\n",
      "  downcast=downcast,\n"
     ]
    },
    {
     "data": {
      "text/plain": [
       "self_employed    6515\n",
       "private          5957\n",
       "government       1127\n",
       "Name: workclass, dtype: int64"
      ]
     },
     "execution_count": 9,
     "metadata": {},
     "output_type": "execute_result"
    }
   ],
   "source": [
    "cat_df['workclass'].fillna('self_employed', inplace=True)\n",
    "cat_df.workclass.value_counts()"
   ]
  },
  {
   "cell_type": "code",
   "execution_count": 10,
   "metadata": {},
   "outputs": [
    {
     "data": {
      "text/plain": [
       "tech            5777\n",
       "craft           1114\n",
       "clerical         999\n",
       "professional     984\n",
       "service          973\n",
       "executive        953\n",
       "sales            920\n",
       "factory          555\n",
       "trucker          414\n",
       "cleaner          399\n",
       "farm             301\n",
       "lawenf           161\n",
       "estate_agent      47\n",
       "soldier            2\n",
       "Name: occupation, dtype: int64"
      ]
     },
     "execution_count": 10,
     "metadata": {},
     "output_type": "execute_result"
    }
   ],
   "source": [
    "cat_df['occupation'].fillna('tech', inplace=True)\n",
    "cat_df.occupation.value_counts()"
   ]
  },
  {
   "cell_type": "code",
   "execution_count": 11,
   "metadata": {},
   "outputs": [
    {
     "name": "stdout",
     "output_type": "stream",
     "text": [
      "Divorced         6625\n",
      "Married          3559\n",
      "Never-married    3141\n",
      "Widowed           274\n",
      "Name: marital-status, dtype: int64 \n",
      "\n",
      "caucasian        12313\n",
      "not_caucasian     1286\n",
      "Name: race, dtype: int64 \n",
      "\n",
      "Male      10597\n",
      "Female     3002\n",
      "Name: sex, dtype: int64 \n",
      "\n"
     ]
    }
   ],
   "source": [
    "# checking others\n",
    "print(cat_df[\"marital-status\"].value_counts(), \"\\n\")\n",
    "print(cat_df[\"race\"].value_counts(), \"\\n\")\n",
    "print(cat_df[\"sex\"].value_counts(), \"\\n\")"
   ]
  },
  {
   "cell_type": "markdown",
   "metadata": {},
   "source": [
    "### Make Sure There Are No Empty Values"
   ]
  },
  {
   "cell_type": "code",
   "execution_count": 12,
   "metadata": {
    "scrolled": true
   },
   "outputs": [
    {
     "data": {
      "text/plain": [
       "<AxesSubplot:>"
      ]
     },
     "execution_count": 12,
     "metadata": {},
     "output_type": "execute_result"
    },
    {
     "data": {
      "image/png": "[encoded data removed]",
      "text/plain": [
       "<Figure size 720x432 with 1 Axes>"
      ]
     },
     "metadata": {
      "needs_background": "light"
     },
     "output_type": "display_data"
    }
   ],
   "source": [
    "plt.figure(figsize=(10,6))\n",
    "sns.heatmap(cat_df.isna(), cbar=False, cmap='viridis', yticklabels=False)"
   ]
  },
  {
   "cell_type": "markdown",
   "metadata": {},
   "source": [
    "### Explore Empty Values in Numeric Data"
   ]
  },
  {
   "cell_type": "code",
   "execution_count": 13,
   "metadata": {},
   "outputs": [
    {
     "data": {
      "text/plain": [
       "<AxesSubplot:>"
      ]
     },
     "execution_count": 13,
     "metadata": {},
     "output_type": "execute_result"
    },
    {
     "data": {
      "image/png": "[encoded data removed]",
      "text/plain": [
       "<Figure size 720x432 with 1 Axes>"
      ]
     },
     "metadata": {
      "needs_background": "light"
     },
     "output_type": "display_data"
    }
   ],
   "source": [
    "plt.figure(figsize=(10,6))\n",
    "sns.heatmap(num_df.isna(), cbar=False, cmap='viridis', yticklabels=False)"
   ]
  },
  {
   "cell_type": "markdown",
   "metadata": {},
   "source": [
    "### Fill out NA with Means"
   ]
  },
  {
   "cell_type": "code",
   "execution_count": 14,
   "metadata": {},
   "outputs": [],
   "source": [
    "imputer = SimpleImputer(strategy='mean')"
   ]
  },
  {
   "cell_type": "code",
   "execution_count": 15,
   "metadata": {},
   "outputs": [],
   "source": [
    "imputer.fit(num_df)\n",
    "num_df_transform = imputer.transform(num_df)"
   ]
  },
  {
   "cell_type": "code",
   "execution_count": 16,
   "metadata": {},
   "outputs": [
    {
     "data": {
      "text/html": [
       "<div>\n",
       "<style scoped>\n",
       "    .dataframe tbody tr th:only-of-type {\n",
       "        vertical-align: middle;\n",
       "    }\n",
       "\n",
       "    .dataframe tbody tr th {\n",
       "        vertical-align: top;\n",
       "    }\n",
       "\n",
       "    .dataframe thead th {\n",
       "        text-align: right;\n",
       "    }\n",
       "</style>\n",
       "<table border=\"1\" class=\"dataframe\">\n",
       "  <thead>\n",
       "    <tr style=\"text-align: right;\">\n",
       "      <th></th>\n",
       "      <th>user_id</th>\n",
       "      <th>age</th>\n",
       "      <th>salary</th>\n",
       "      <th>education_rank</th>\n",
       "      <th>mins_beerdrinking_year</th>\n",
       "      <th>mins_exercising_year</th>\n",
       "      <th>works_hours</th>\n",
       "      <th>tea_per_year</th>\n",
       "      <th>coffee_per_year</th>\n",
       "      <th>great_customer_class</th>\n",
       "    </tr>\n",
       "  </thead>\n",
       "  <tbody>\n",
       "    <tr>\n",
       "      <th>0</th>\n",
       "      <td>1004889.0</td>\n",
       "      <td>14.0</td>\n",
       "      <td>70773.000000</td>\n",
       "      <td>9.0</td>\n",
       "      <td>0.000000</td>\n",
       "      <td>0.000000</td>\n",
       "      <td>40.0</td>\n",
       "      <td>399.000000</td>\n",
       "      <td>359.708169</td>\n",
       "      <td>0.0</td>\n",
       "    </tr>\n",
       "    <tr>\n",
       "      <th>1</th>\n",
       "      <td>1012811.0</td>\n",
       "      <td>25.0</td>\n",
       "      <td>76597.000000</td>\n",
       "      <td>9.0</td>\n",
       "      <td>0.000000</td>\n",
       "      <td>0.000000</td>\n",
       "      <td>30.0</td>\n",
       "      <td>256.000000</td>\n",
       "      <td>359.708169</td>\n",
       "      <td>0.0</td>\n",
       "    </tr>\n",
       "    <tr>\n",
       "      <th>2</th>\n",
       "      <td>1006870.0</td>\n",
       "      <td>21.0</td>\n",
       "      <td>47947.250000</td>\n",
       "      <td>10.0</td>\n",
       "      <td>0.000000</td>\n",
       "      <td>0.000000</td>\n",
       "      <td>10.0</td>\n",
       "      <td>442.000000</td>\n",
       "      <td>276.000000</td>\n",
       "      <td>0.0</td>\n",
       "    </tr>\n",
       "    <tr>\n",
       "      <th>3</th>\n",
       "      <td>1022149.0</td>\n",
       "      <td>23.0</td>\n",
       "      <td>41740.250000</td>\n",
       "      <td>7.0</td>\n",
       "      <td>0.000000</td>\n",
       "      <td>0.000000</td>\n",
       "      <td>20.0</td>\n",
       "      <td>217.276544</td>\n",
       "      <td>359.708169</td>\n",
       "      <td>0.0</td>\n",
       "    </tr>\n",
       "    <tr>\n",
       "      <th>4</th>\n",
       "      <td>1029558.0</td>\n",
       "      <td>26.0</td>\n",
       "      <td>37149.297355</td>\n",
       "      <td>9.0</td>\n",
       "      <td>447.920607</td>\n",
       "      <td>0.000000</td>\n",
       "      <td>36.0</td>\n",
       "      <td>217.276544</td>\n",
       "      <td>120.000000</td>\n",
       "      <td>0.0</td>\n",
       "    </tr>\n",
       "    <tr>\n",
       "      <th>...</th>\n",
       "      <td>...</td>\n",
       "      <td>...</td>\n",
       "      <td>...</td>\n",
       "      <td>...</td>\n",
       "      <td>...</td>\n",
       "      <td>...</td>\n",
       "      <td>...</td>\n",
       "      <td>...</td>\n",
       "      <td>...</td>\n",
       "      <td>...</td>\n",
       "    </tr>\n",
       "    <tr>\n",
       "      <th>13594</th>\n",
       "      <td>1016807.0</td>\n",
       "      <td>42.0</td>\n",
       "      <td>55293.000000</td>\n",
       "      <td>13.0</td>\n",
       "      <td>0.000000</td>\n",
       "      <td>46.034224</td>\n",
       "      <td>40.0</td>\n",
       "      <td>277.000000</td>\n",
       "      <td>268.000000</td>\n",
       "      <td>1.0</td>\n",
       "    </tr>\n",
       "    <tr>\n",
       "      <th>13595</th>\n",
       "      <td>1038859.0</td>\n",
       "      <td>58.0</td>\n",
       "      <td>25928.250000</td>\n",
       "      <td>14.0</td>\n",
       "      <td>0.000000</td>\n",
       "      <td>0.000000</td>\n",
       "      <td>40.0</td>\n",
       "      <td>337.000000</td>\n",
       "      <td>359.708169</td>\n",
       "      <td>1.0</td>\n",
       "    </tr>\n",
       "    <tr>\n",
       "      <th>13596</th>\n",
       "      <td>1041214.0</td>\n",
       "      <td>75.0</td>\n",
       "      <td>16590.000000</td>\n",
       "      <td>7.0</td>\n",
       "      <td>447.920607</td>\n",
       "      <td>0.000000</td>\n",
       "      <td>35.0</td>\n",
       "      <td>217.276544</td>\n",
       "      <td>359.708169</td>\n",
       "      <td>1.0</td>\n",
       "    </tr>\n",
       "    <tr>\n",
       "      <th>13597</th>\n",
       "      <td>1038013.0</td>\n",
       "      <td>45.0</td>\n",
       "      <td>25536.750000</td>\n",
       "      <td>11.0</td>\n",
       "      <td>0.000000</td>\n",
       "      <td>0.000000</td>\n",
       "      <td>40.0</td>\n",
       "      <td>99.000000</td>\n",
       "      <td>79.000000</td>\n",
       "      <td>1.0</td>\n",
       "    </tr>\n",
       "    <tr>\n",
       "      <th>13598</th>\n",
       "      <td>1017676.0</td>\n",
       "      <td>42.0</td>\n",
       "      <td>57656.000000</td>\n",
       "      <td>6.0</td>\n",
       "      <td>0.000000</td>\n",
       "      <td>0.000000</td>\n",
       "      <td>40.0</td>\n",
       "      <td>24.000000</td>\n",
       "      <td>373.000000</td>\n",
       "      <td>1.0</td>\n",
       "    </tr>\n",
       "  </tbody>\n",
       "</table>\n",
       "<p>13599 rows × 10 columns</p>\n",
       "</div>"
      ],
      "text/plain": [
       "         user_id   age        salary  education_rank  mins_beerdrinking_year  \\\n",
       "0      1004889.0  14.0  70773.000000             9.0                0.000000   \n",
       "1      1012811.0  25.0  76597.000000             9.0                0.000000   \n",
       "2      1006870.0  21.0  47947.250000            10.0                0.000000   \n",
       "3      1022149.0  23.0  41740.250000             7.0                0.000000   \n",
       "4      1029558.0  26.0  37149.297355             9.0              447.920607   \n",
       "...          ...   ...           ...             ...                     ...   \n",
       "13594  1016807.0  42.0  55293.000000            13.0                0.000000   \n",
       "13595  1038859.0  58.0  25928.250000            14.0                0.000000   \n",
       "13596  1041214.0  75.0  16590.000000             7.0              447.920607   \n",
       "13597  1038013.0  45.0  25536.750000            11.0                0.000000   \n",
       "13598  1017676.0  42.0  57656.000000             6.0                0.000000   \n",
       "\n",
       "       mins_exercising_year  works_hours  tea_per_year  coffee_per_year  \\\n",
       "0                  0.000000         40.0    399.000000       359.708169   \n",
       "1                  0.000000         30.0    256.000000       359.708169   \n",
       "2                  0.000000         10.0    442.000000       276.000000   \n",
       "3                  0.000000         20.0    217.276544       359.708169   \n",
       "4                  0.000000         36.0    217.276544       120.000000   \n",
       "...                     ...          ...           ...              ...   \n",
       "13594             46.034224         40.0    277.000000       268.000000   \n",
       "13595              0.000000         40.0    337.000000       359.708169   \n",
       "13596              0.000000         35.0    217.276544       359.708169   \n",
       "13597              0.000000         40.0     99.000000        79.000000   \n",
       "13598              0.000000         40.0     24.000000       373.000000   \n",
       "\n",
       "       great_customer_class  \n",
       "0                       0.0  \n",
       "1                       0.0  \n",
       "2                       0.0  \n",
       "3                       0.0  \n",
       "4                       0.0  \n",
       "...                     ...  \n",
       "13594                   1.0  \n",
       "13595                   1.0  \n",
       "13596                   1.0  \n",
       "13597                   1.0  \n",
       "13598                   1.0  \n",
       "\n",
       "[13599 rows x 10 columns]"
      ]
     },
     "execution_count": 16,
     "metadata": {},
     "output_type": "execute_result"
    }
   ],
   "source": [
    "num_df = pd.DataFrame(data=num_df_transform)\n",
    "num_df.columns = ['user_id', 'age', 'salary',\n",
    "       'education_rank', 'mins_beerdrinking_year', 'mins_exercising_year', \n",
    "            'works_hours', 'tea_per_year', 'coffee_per_year', 'great_customer_class']\n",
    "num_df"
   ]
  },
  {
   "cell_type": "markdown",
   "metadata": {},
   "source": [
    "### Make Sure There Are No Empty Values"
   ]
  },
  {
   "cell_type": "code",
   "execution_count": 17,
   "metadata": {
    "scrolled": true
   },
   "outputs": [
    {
     "data": {
      "text/plain": [
       "<AxesSubplot:>"
      ]
     },
     "execution_count": 17,
     "metadata": {},
     "output_type": "execute_result"
    },
    {
     "data": {
      "image/png": "[encoded data removed]",
      "text/plain": [
       "<Figure size 720x432 with 1 Axes>"
      ]
     },
     "metadata": {
      "needs_background": "light"
     },
     "output_type": "display_data"
    }
   ],
   "source": [
    "plt.figure(figsize=(10,6))\n",
    "sns.heatmap(num_df.isna(), cbar=False, cmap='viridis', yticklabels=False)"
   ]
  },
  {
   "cell_type": "markdown",
   "metadata": {},
   "source": [
    "### Concatenate Two Datasets"
   ]
  },
  {
   "cell_type": "code",
   "execution_count": 19,
   "metadata": {},
   "outputs": [],
   "source": [
    "df = pd.concat([cat_df, num_df], axis=1)"
   ]
  },
  {
   "cell_type": "markdown",
   "metadata": {},
   "source": [
    "Now the data is ready for the next steps. "
   ]
  },
  {
   "cell_type": "code",
   "execution_count": 20,
   "metadata": {},
   "outputs": [],
   "source": [
    "df.to_csv('cleaned.csv', index=False)"
   ]
  },
  {
   "cell_type": "code",
   "execution_count": null,
   "metadata": {},
   "outputs": [],
   "source": []
  }
 ],
 "metadata": {
  "kernelspec": {
   "display_name": "Python 3",
   "language": "python",
   "name": "python3"
  },
  "language_info": {
   "codemirror_mode": {
    "name": "ipython",
    "version": 3
   },
   "file_extension": ".py",
   "mimetype": "text/x-python",
   "name": "python",
   "nbconvert_exporter": "python",
   "pygments_lexer": "ipython3",
   "version": "3.7.9"
  }
 },
 "nbformat": 4,
 "nbformat_minor": 4
}
