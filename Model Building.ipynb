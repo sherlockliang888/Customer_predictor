{
 "cells": [
  {
   "cell_type": "markdown",
   "metadata": {},
   "source": [
    "## Model Building"
   ]
  },
  {
   "cell_type": "markdown",
   "metadata": {},
   "source": [
    "### Load Libraries"
   ]
  },
  {
   "cell_type": "code",
   "execution_count": 1,
   "metadata": {},
   "outputs": [],
   "source": [
    "import pandas as pd\n",
    "from matplotlib import pyplot as plt\n",
    "import seaborn as sns\n",
    "import numpy as np"
   ]
  },
  {
   "cell_type": "code",
   "execution_count": 15,
   "metadata": {},
   "outputs": [],
   "source": [
    "from sklearn.model_selection import train_test_split\n",
    "\n",
    "from sklearn.linear_model import LogisticRegression\n",
    "from sklearn.neighbors import KNeighborsClassifier\n",
    "from sklearn.svm import SVC\n",
    "from sklearn.naive_bayes import GaussianNB\n",
    "from sklearn.ensemble import RandomForestClassifier\n",
    "\n",
    "from sklearn.model_selection import RepeatedStratifiedKFold\n",
    "from sklearn.model_selection import cross_val_score\n",
    "\n",
    "from sklearn.ensemble import StackingClassifier"
   ]
  },
  {
   "cell_type": "markdown",
   "metadata": {},
   "source": [
    "### Read data"
   ]
  },
  {
   "cell_type": "code",
   "execution_count": 4,
   "metadata": {},
   "outputs": [
    {
     "data": {
      "text/html": [
       "<div>\n",
       "<style scoped>\n",
       "    .dataframe tbody tr th:only-of-type {\n",
       "        vertical-align: middle;\n",
       "    }\n",
       "\n",
       "    .dataframe tbody tr th {\n",
       "        vertical-align: top;\n",
       "    }\n",
       "\n",
       "    .dataframe thead th {\n",
       "        text-align: right;\n",
       "    }\n",
       "</style>\n",
       "<table border=\"1\" class=\"dataframe\">\n",
       "  <thead>\n",
       "    <tr style=\"text-align: right;\">\n",
       "      <th></th>\n",
       "      <th>salary</th>\n",
       "      <th>mins_beerdrinking_year</th>\n",
       "      <th>works_hours</th>\n",
       "      <th>mins_exercising_year</th>\n",
       "      <th>education_rank</th>\n",
       "      <th>coffee_per_year</th>\n",
       "      <th>great_customer_class</th>\n",
       "    </tr>\n",
       "  </thead>\n",
       "  <tbody>\n",
       "    <tr>\n",
       "      <th>0</th>\n",
       "      <td>70773.000000</td>\n",
       "      <td>0.000000</td>\n",
       "      <td>40.0</td>\n",
       "      <td>0.0</td>\n",
       "      <td>9.0</td>\n",
       "      <td>359.708169</td>\n",
       "      <td>0.0</td>\n",
       "    </tr>\n",
       "    <tr>\n",
       "      <th>1</th>\n",
       "      <td>76597.000000</td>\n",
       "      <td>0.000000</td>\n",
       "      <td>30.0</td>\n",
       "      <td>0.0</td>\n",
       "      <td>9.0</td>\n",
       "      <td>359.708169</td>\n",
       "      <td>0.0</td>\n",
       "    </tr>\n",
       "    <tr>\n",
       "      <th>2</th>\n",
       "      <td>47947.250000</td>\n",
       "      <td>0.000000</td>\n",
       "      <td>10.0</td>\n",
       "      <td>0.0</td>\n",
       "      <td>10.0</td>\n",
       "      <td>276.000000</td>\n",
       "      <td>0.0</td>\n",
       "    </tr>\n",
       "    <tr>\n",
       "      <th>3</th>\n",
       "      <td>41740.250000</td>\n",
       "      <td>0.000000</td>\n",
       "      <td>20.0</td>\n",
       "      <td>0.0</td>\n",
       "      <td>7.0</td>\n",
       "      <td>359.708169</td>\n",
       "      <td>0.0</td>\n",
       "    </tr>\n",
       "    <tr>\n",
       "      <th>4</th>\n",
       "      <td>37149.297355</td>\n",
       "      <td>447.920607</td>\n",
       "      <td>36.0</td>\n",
       "      <td>0.0</td>\n",
       "      <td>9.0</td>\n",
       "      <td>120.000000</td>\n",
       "      <td>0.0</td>\n",
       "    </tr>\n",
       "  </tbody>\n",
       "</table>\n",
       "</div>"
      ],
      "text/plain": [
       "         salary  mins_beerdrinking_year  works_hours  mins_exercising_year  \\\n",
       "0  70773.000000                0.000000         40.0                   0.0   \n",
       "1  76597.000000                0.000000         30.0                   0.0   \n",
       "2  47947.250000                0.000000         10.0                   0.0   \n",
       "3  41740.250000                0.000000         20.0                   0.0   \n",
       "4  37149.297355              447.920607         36.0                   0.0   \n",
       "\n",
       "   education_rank  coffee_per_year  great_customer_class  \n",
       "0             9.0       359.708169                   0.0  \n",
       "1             9.0       359.708169                   0.0  \n",
       "2            10.0       276.000000                   0.0  \n",
       "3             7.0       359.708169                   0.0  \n",
       "4             9.0       120.000000                   0.0  "
      ]
     },
     "execution_count": 4,
     "metadata": {},
     "output_type": "execute_result"
    }
   ],
   "source": [
    "df = pd.read_csv(\"cleaned_v2.csv\")\n",
    "df.head()"
   ]
  },
  {
   "cell_type": "code",
   "execution_count": 6,
   "metadata": {},
   "outputs": [],
   "source": [
    "y = df.great_customer_class\n",
    "X = df[[\"salary\", 'mins_beerdrinking_year', \"works_hours\", \"mins_exercising_year\", \"education_rank\", \"coffee_per_year\"]]"
   ]
  },
  {
   "cell_type": "markdown",
   "metadata": {},
   "source": [
    "### Split data"
   ]
  },
  {
   "cell_type": "code",
   "execution_count": 8,
   "metadata": {},
   "outputs": [],
   "source": [
    "Xtrain, Xtest, ytrain, ytest = train_test_split(X, y, test_size = 0.3, random_state = 1)"
   ]
  },
  {
   "cell_type": "markdown",
   "metadata": {},
   "source": [
    "### Build models with 5 different algorithms"
   ]
  },
  {
   "cell_type": "code",
   "execution_count": 10,
   "metadata": {},
   "outputs": [],
   "source": [
    "logreg = LogisticRegression()\n",
    "knn = KNeighborsClassifier()\n",
    "svm = SVC()\n",
    "bayes = GaussianNB()\n",
    "rf = RandomForestClassifier(100)\n",
    "\n",
    "models = {'logreg': logreg, \n",
    "         'knn': knn, \n",
    "         'svm': svm,\n",
    "         'bayes': bayes,\n",
    "         'rf': rf}"
   ]
  },
  {
   "cell_type": "code",
   "execution_count": 12,
   "metadata": {},
   "outputs": [],
   "source": [
    "def evaluate_model(model, Xtrain, ytrain):\n",
    "    cv = RepeatedStratifiedKFold(n_splits = 10, n_repeats = 3, random_state = 1)\n",
    "    scores = cross_val_score(model, X, y, scoring= 'accuracy', cv = cv, n_jobs = -1)\n",
    "    return scores"
   ]
  },
  {
   "cell_type": "code",
   "execution_count": 13,
   "metadata": {},
   "outputs": [
    {
     "name": "stdout",
     "output_type": "stream",
     "text": [
      "Algorithm logreg's Accuracy >>> 0.9238917745170178 & Standard Deviation >>> 0.0035594471547441345\n",
      "Algorithm knn's Accuracy >>> 0.9209991848100534 & Standard Deviation >>> 0.0042340228281918385\n",
      "Algorithm svm's Accuracy >>> 0.9240876725966326 & Standard Deviation >>> 0.00227186659866084\n",
      "Algorithm bayes's Accuracy >>> 0.9092092116463951 & Standard Deviation >>> 0.0050077832880320175\n",
      "Algorithm rf's Accuracy >>> 0.9266858921640768 & Standard Deviation >>> 0.005884853154727841\n"
     ]
    }
   ],
   "source": [
    "results = algorithms = []\n",
    "for algo, model in models.items():\n",
    "    scores = evaluate_model(model, Xtrain, ytrain)\n",
    "    results.append(scores)\n",
    "    algorithms.append(algo)\n",
    "    print(f\"Algorithm {algo}'s Accuracy >>> {np.mean(scores)} & Standard Deviation >>> {np.std(scores)}\")"
   ]
  },
  {
   "cell_type": "markdown",
   "metadata": {},
   "source": [
    "### Stack above models with another one"
   ]
  },
  {
   "cell_type": "code",
   "execution_count": 16,
   "metadata": {},
   "outputs": [],
   "source": [
    "#if using stacking\n",
    "#logreg as level 1 final estimator\n",
    "stacking_model = StackingClassifier(estimators = [('logreg', logreg), \n",
    "                                                 ('knn', knn), \n",
    "                                                 ('svm', svm), \n",
    "                                                 ('bayes', bayes),\n",
    "                                                 ('rf', rf)], \n",
    "                                   final_estimator = logreg, cv = 5)"
   ]
  },
  {
   "cell_type": "code",
   "execution_count": 17,
   "metadata": {
    "scrolled": false
   },
   "outputs": [
    {
     "name": "stdout",
     "output_type": "stream",
     "text": [
      "Algorithm Stacking's Accuracy >>> 0.934309072414838 & Standard Deviation >>> 0.003463137599966917\n"
     ]
    }
   ],
   "source": [
    "algo = 'Stacking'\n",
    "scores = evaluate_model(stacking_model, Xtrain, ytrain)\n",
    "print(f\"Algorithm {algo}'s Accuracy >>> {np.mean(scores)} & Standard Deviation >>> {np.std(scores)}\")"
   ]
  },
  {
   "cell_type": "markdown",
   "metadata": {},
   "source": [
    "Multiple models are used to make predictions in level 0, and in the top level 1, a simple logistic regression is applied over the predictions of level 0 models. The accuracy has increased slightly to 0.934309072414838."
   ]
  },
  {
   "cell_type": "code",
   "execution_count": null,
   "metadata": {},
   "outputs": [],
   "source": []
  }
 ],
 "metadata": {
  "kernelspec": {
   "display_name": "Python 3",
   "language": "python",
   "name": "python3"
  },
  "language_info": {
   "codemirror_mode": {
    "name": "ipython",
    "version": 3
   },
   "file_extension": ".py",
   "mimetype": "text/x-python",
   "name": "python",
   "nbconvert_exporter": "python",
   "pygments_lexer": "ipython3",
   "version": "3.7.9"
  }
 },
 "nbformat": 4,
 "nbformat_minor": 4
}
